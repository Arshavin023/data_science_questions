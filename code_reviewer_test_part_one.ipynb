{
 "cells": [
  {
   "cell_type": "markdown",
   "id": "13f4c471",
   "metadata": {},
   "source": [
    "# Code Reviewer Test"
   ]
  },
  {
   "cell_type": "markdown",
   "id": "9710686a",
   "metadata": {},
   "source": [
    "### Part one"
   ]
  },
  {
   "cell_type": "markdown",
   "id": "e0e0fb16",
   "metadata": {},
   "source": [
    "### Import libraries"
   ]
  },
  {
   "cell_type": "code",
   "execution_count": 1,
   "id": "07d50216",
   "metadata": {},
   "outputs": [],
   "source": [
    "import pandas as pd\n",
    "import numpy as np\n",
    "from scipy import stats as st"
   ]
  },
  {
   "cell_type": "markdown",
   "id": "f1a91116",
   "metadata": {},
   "source": [
    "#### Read in the data"
   ]
  },
  {
   "cell_type": "code",
   "execution_count": 2,
   "id": "88e1f6ee",
   "metadata": {},
   "outputs": [],
   "source": [
    "df=pd.read_csv('movie_metadata.csv')"
   ]
  },
  {
   "cell_type": "code",
   "execution_count": 3,
   "id": "701d2cad",
   "metadata": {},
   "outputs": [
    {
     "data": {
      "text/plain": [
       "Index(['color', 'director_name', 'num_critic_for_reviews', 'duration',\n",
       "       'director_facebook_likes', 'actor_3_facebook_likes', 'actor_2_name',\n",
       "       'actor_1_facebook_likes', 'gross', 'genres', 'actor_1_name',\n",
       "       'movie_title', 'num_voted_users', 'cast_total_facebook_likes',\n",
       "       'actor_3_name', 'facenumber_in_poster', 'plot_keywords',\n",
       "       'movie_imdb_link', 'num_user_for_reviews', 'language', 'country',\n",
       "       'content_rating', 'budget', 'title_year', 'actor_2_facebook_likes',\n",
       "       'imdb_score', 'aspect_ratio', 'movie_facebook_likes'],\n",
       "      dtype='object')"
      ]
     },
     "execution_count": 3,
     "metadata": {},
     "output_type": "execute_result"
    }
   ],
   "source": [
    "df.columns"
   ]
  },
  {
   "cell_type": "markdown",
   "id": "158929fe",
   "metadata": {},
   "source": [
    "#### Number of nulls in duration column"
   ]
  },
  {
   "cell_type": "code",
   "execution_count": 4,
   "id": "a6f4da51",
   "metadata": {},
   "outputs": [
    {
     "data": {
      "text/plain": [
       "15"
      ]
     },
     "execution_count": 4,
     "metadata": {},
     "output_type": "execute_result"
    }
   ],
   "source": [
    "df[df['duration'].isna()==True].shape[0]"
   ]
  },
  {
   "cell_type": "markdown",
   "id": "0cc7d2df",
   "metadata": {},
   "source": [
    "#### Replace null values with median"
   ]
  },
  {
   "cell_type": "code",
   "execution_count": 5,
   "id": "538049d9",
   "metadata": {},
   "outputs": [],
   "source": [
    "df['duration'].fillna(df.duration.median(),inplace=True)"
   ]
  },
  {
   "cell_type": "code",
   "execution_count": 6,
   "id": "83d79eb3",
   "metadata": {},
   "outputs": [
    {
     "data": {
      "text/plain": [
       "0"
      ]
     },
     "execution_count": 6,
     "metadata": {},
     "output_type": "execute_result"
    }
   ],
   "source": [
    "df[df['duration'].isna()==True].shape[0]"
   ]
  },
  {
   "cell_type": "markdown",
   "id": "4059d420",
   "metadata": {},
   "source": [
    "#### Average film length"
   ]
  },
  {
   "cell_type": "code",
   "execution_count": 7,
   "id": "616787af",
   "metadata": {},
   "outputs": [
    {
     "data": {
      "text/plain": [
       "107.19"
      ]
     },
     "execution_count": 7,
     "metadata": {},
     "output_type": "execute_result"
    }
   ],
   "source": [
    "round(df['duration'].mean(),2)"
   ]
  },
  {
   "cell_type": "code",
   "execution_count": null,
   "id": "5405fa01",
   "metadata": {},
   "outputs": [],
   "source": []
  },
  {
   "cell_type": "markdown",
   "id": "87ff0ce6",
   "metadata": {},
   "source": [
    "#### Creating movie duration category"
   ]
  },
  {
   "cell_type": "code",
   "execution_count": 8,
   "id": "588b5cf5",
   "metadata": {},
   "outputs": [],
   "source": [
    "def movie_duration_category(x):\n",
    "    if x < 90:\n",
    "        return '1. <90'\n",
    "    elif x >= 90 and x <= 120:\n",
    "        return '2. 90-120'\n",
    "    else:\n",
    "        return '3. >120' \n",
    "\n",
    "df['movie_duration_category']=df['duration'].apply(movie_duration_category)"
   ]
  },
  {
   "cell_type": "code",
   "execution_count": null,
   "id": "1db68b9e",
   "metadata": {},
   "outputs": [],
   "source": []
  },
  {
   "cell_type": "markdown",
   "id": "4f45cfe1",
   "metadata": {},
   "source": [
    "#### Create summary table"
   ]
  },
  {
   "cell_type": "code",
   "execution_count": 33,
   "id": "e8c3619a",
   "metadata": {},
   "outputs": [
    {
     "data": {
      "text/html": [
       "<div>\n",
       "<style scoped>\n",
       "    .dataframe tbody tr th:only-of-type {\n",
       "        vertical-align: middle;\n",
       "    }\n",
       "\n",
       "    .dataframe tbody tr th {\n",
       "        vertical-align: top;\n",
       "    }\n",
       "\n",
       "    .dataframe thead th {\n",
       "        text-align: right;\n",
       "    }\n",
       "</style>\n",
       "<table border=\"1\" class=\"dataframe\">\n",
       "  <thead>\n",
       "    <tr style=\"text-align: right;\">\n",
       "      <th></th>\n",
       "      <th>&lt;90</th>\n",
       "      <th>90-120</th>\n",
       "      <th>&gt;120</th>\n",
       "    </tr>\n",
       "    <tr>\n",
       "      <th>year</th>\n",
       "      <th></th>\n",
       "      <th></th>\n",
       "      <th></th>\n",
       "    </tr>\n",
       "  </thead>\n",
       "  <tbody>\n",
       "    <tr>\n",
       "      <th>2000</th>\n",
       "      <td>25</td>\n",
       "      <td>112</td>\n",
       "      <td>34</td>\n",
       "    </tr>\n",
       "    <tr>\n",
       "      <th>2001</th>\n",
       "      <td>29</td>\n",
       "      <td>120</td>\n",
       "      <td>39</td>\n",
       "    </tr>\n",
       "    <tr>\n",
       "      <th>2002</th>\n",
       "      <td>36</td>\n",
       "      <td>146</td>\n",
       "      <td>27</td>\n",
       "    </tr>\n",
       "    <tr>\n",
       "      <th>2003</th>\n",
       "      <td>31</td>\n",
       "      <td>108</td>\n",
       "      <td>30</td>\n",
       "    </tr>\n",
       "    <tr>\n",
       "      <th>2004</th>\n",
       "      <td>30</td>\n",
       "      <td>142</td>\n",
       "      <td>42</td>\n",
       "    </tr>\n",
       "    <tr>\n",
       "      <th>2005</th>\n",
       "      <td>31</td>\n",
       "      <td>142</td>\n",
       "      <td>48</td>\n",
       "    </tr>\n",
       "    <tr>\n",
       "      <th>2006</th>\n",
       "      <td>40</td>\n",
       "      <td>146</td>\n",
       "      <td>53</td>\n",
       "    </tr>\n",
       "    <tr>\n",
       "      <th>2007</th>\n",
       "      <td>31</td>\n",
       "      <td>130</td>\n",
       "      <td>43</td>\n",
       "    </tr>\n",
       "    <tr>\n",
       "      <th>2008</th>\n",
       "      <td>29</td>\n",
       "      <td>160</td>\n",
       "      <td>36</td>\n",
       "    </tr>\n",
       "    <tr>\n",
       "      <th>2009</th>\n",
       "      <td>42</td>\n",
       "      <td>178</td>\n",
       "      <td>40</td>\n",
       "    </tr>\n",
       "    <tr>\n",
       "      <th>2010</th>\n",
       "      <td>26</td>\n",
       "      <td>171</td>\n",
       "      <td>33</td>\n",
       "    </tr>\n",
       "    <tr>\n",
       "      <th>2011</th>\n",
       "      <td>36</td>\n",
       "      <td>150</td>\n",
       "      <td>39</td>\n",
       "    </tr>\n",
       "    <tr>\n",
       "      <th>2012</th>\n",
       "      <td>41</td>\n",
       "      <td>139</td>\n",
       "      <td>41</td>\n",
       "    </tr>\n",
       "    <tr>\n",
       "      <th>2013</th>\n",
       "      <td>38</td>\n",
       "      <td>145</td>\n",
       "      <td>54</td>\n",
       "    </tr>\n",
       "    <tr>\n",
       "      <th>2014</th>\n",
       "      <td>36</td>\n",
       "      <td>171</td>\n",
       "      <td>45</td>\n",
       "    </tr>\n",
       "    <tr>\n",
       "      <th>2015</th>\n",
       "      <td>34</td>\n",
       "      <td>145</td>\n",
       "      <td>47</td>\n",
       "    </tr>\n",
       "    <tr>\n",
       "      <th>2016</th>\n",
       "      <td>8</td>\n",
       "      <td>79</td>\n",
       "      <td>19</td>\n",
       "    </tr>\n",
       "  </tbody>\n",
       "</table>\n",
       "</div>"
      ],
      "text/plain": [
       "      <90  90-120  >120\n",
       "year                   \n",
       "2000   25     112    34\n",
       "2001   29     120    39\n",
       "2002   36     146    27\n",
       "2003   31     108    30\n",
       "2004   30     142    42\n",
       "2005   31     142    48\n",
       "2006   40     146    53\n",
       "2007   31     130    43\n",
       "2008   29     160    36\n",
       "2009   42     178    40\n",
       "2010   26     171    33\n",
       "2011   36     150    39\n",
       "2012   41     139    41\n",
       "2013   38     145    54\n",
       "2014   36     171    45\n",
       "2015   34     145    47\n",
       "2016    8      79    19"
      ]
     },
     "execution_count": 33,
     "metadata": {},
     "output_type": "execute_result"
    }
   ],
   "source": [
    "a=df[(df.title_year >= 2000) & (df['title_year'].isna()==False) & (df.movie_duration_category=='1. <90')] \\\n",
    ".groupby(['title_year'])['movie_duration_category'].count().values\n",
    "\n",
    "b=df[(df.title_year >= 2000) & (df['title_year'].isna()==False) & (df.movie_duration_category=='2. 90-120')] \\\n",
    ".groupby(['title_year'])['movie_duration_category'].count().values\n",
    "\n",
    "c=df[(df.title_year >= 2000) & (df['title_year'].isna()==False) & (df.movie_duration_category=='3. >120')] \\\n",
    ".groupby(['title_year'])['movie_duration_category'].count().values\n",
    "\n",
    "#Creating two Series by passing lists\n",
    "a = pd.Series(list(a))\n",
    "b = pd.Series(list(b))\n",
    "c=pd.Series(list(c))\n",
    "year=pd.Series(sorted(list(df[(df.title_year >= 2000)]['title_year'].astype('int').unique())))\n",
    "#Creating a dictionary by passing Series objects as values\n",
    "frame = { '<90': a, '90-120': b,'>120':c,'year':year }\n",
    "#Creating DataFrame by passing Dictionary\n",
    "result = pd.DataFrame(frame)\n",
    "#Printing elements of Dataframe\n",
    "summary_df=result.set_index('year')\n",
    "summary_df"
   ]
  },
  {
   "cell_type": "code",
   "execution_count": null,
   "id": "09d29945",
   "metadata": {},
   "outputs": [],
   "source": []
  },
  {
   "cell_type": "markdown",
   "id": "fc9b80e1",
   "metadata": {},
   "source": [
    "#### Movie between 90min and 2hrs release in 2008"
   ]
  },
  {
   "cell_type": "code",
   "execution_count": 35,
   "id": "42351b62",
   "metadata": {},
   "outputs": [
    {
     "data": {
      "text/plain": [
       "year\n",
       "2008    160\n",
       "Name: 90-120, dtype: int64"
      ]
     },
     "execution_count": 35,
     "metadata": {},
     "output_type": "execute_result"
    }
   ],
   "source": [
    "summary_df[summary_df.index==2008]['90-120']"
   ]
  },
  {
   "cell_type": "code",
   "execution_count": null,
   "id": "650b1850",
   "metadata": {},
   "outputs": [],
   "source": []
  },
  {
   "cell_type": "markdown",
   "id": "24325d12",
   "metadata": {},
   "source": [
    "#### Creating movie plot category"
   ]
  },
  {
   "cell_type": "code",
   "execution_count": 415,
   "id": "c0e097ef",
   "metadata": {},
   "outputs": [],
   "source": [
    "def movie_plot_category(x):\n",
    "    if str(x).count('love') >= 1 and str(x).count('death') >= 1:\n",
    "        return \"love_and_death\"\n",
    "    elif str(x).count('love') >= 1 and str(x).count('death') ==0:\n",
    "        return \"love\"\n",
    "    elif str(x).count('love') == 0 and str(x).count('death') >= 1:\n",
    "        return \"death\"\n",
    "    else:\n",
    "        return 'other'\n",
    "df['movie_plot_category']=df['plot_keywords'].apply(movie_plot_category)"
   ]
  },
  {
   "cell_type": "code",
   "execution_count": null,
   "id": "2cdc9d2c",
   "metadata": {},
   "outputs": [],
   "source": []
  },
  {
   "cell_type": "markdown",
   "id": "84315c82",
   "metadata": {},
   "source": [
    "#### Average movie rating for movie_plot_category"
   ]
  },
  {
   "cell_type": "code",
   "execution_count": 417,
   "id": "11fe0731",
   "metadata": {},
   "outputs": [
    {
     "data": {
      "text/plain": [
       "movie_plot_category\n",
       "death             6.535465\n",
       "love              6.580769\n",
       "love_and_death    6.506250\n",
       "other             6.431422\n",
       "Name: imdb_score, dtype: float64"
      ]
     },
     "execution_count": 417,
     "metadata": {},
     "output_type": "execute_result"
    }
   ],
   "source": [
    "df.groupby('movie_plot_category')['imdb_score'].mean()"
   ]
  },
  {
   "cell_type": "code",
   "execution_count": null,
   "id": "638f676b",
   "metadata": {},
   "outputs": [],
   "source": []
  },
  {
   "cell_type": "markdown",
   "id": "65b577ae",
   "metadata": {},
   "source": [
    "#### Average rating for films in love category"
   ]
  },
  {
   "cell_type": "code",
   "execution_count": 418,
   "id": "5540d221",
   "metadata": {},
   "outputs": [
    {
     "data": {
      "text/plain": [
       "6.58"
      ]
     },
     "execution_count": 418,
     "metadata": {},
     "output_type": "execute_result"
    }
   ],
   "source": [
    "round(df.groupby('movie_plot_category')['imdb_score'].mean()['love'],2)"
   ]
  },
  {
   "cell_type": "code",
   "execution_count": null,
   "id": "a00913e8",
   "metadata": {},
   "outputs": [],
   "source": []
  },
  {
   "cell_type": "markdown",
   "id": "00d3e407",
   "metadata": {},
   "source": [
    "#### Median Budget for all film listed"
   ]
  },
  {
   "cell_type": "code",
   "execution_count": 475,
   "id": "5697dc9a",
   "metadata": {},
   "outputs": [],
   "source": [
    "def clean_budget_column(x):\n",
    "    return int(x.split('.')[0])"
   ]
  },
  {
   "cell_type": "code",
   "execution_count": 478,
   "id": "61cb7ea4",
   "metadata": {},
   "outputs": [],
   "source": [
    "df['budget']=df.budget.apply(clean_budget_column)"
   ]
  },
  {
   "cell_type": "code",
   "execution_count": 481,
   "id": "5869bdf5",
   "metadata": {},
   "outputs": [
    {
     "data": {
      "text/plain": [
       "15000000"
      ]
     },
     "execution_count": 481,
     "metadata": {},
     "output_type": "execute_result"
    }
   ],
   "source": [
    "int(df['budget'].median())"
   ]
  }
 ],
 "metadata": {
  "kernelspec": {
   "display_name": "Python 3 (ipykernel)",
   "language": "python",
   "name": "python3"
  },
  "language_info": {
   "codemirror_mode": {
    "name": "ipython",
    "version": 3
   },
   "file_extension": ".py",
   "mimetype": "text/x-python",
   "name": "python",
   "nbconvert_exporter": "python",
   "pygments_lexer": "ipython3",
   "version": "3.9.7"
  }
 },
 "nbformat": 4,
 "nbformat_minor": 5
}
