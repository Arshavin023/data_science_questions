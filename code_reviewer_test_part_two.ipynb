{
 "cells": [
  {
   "cell_type": "markdown",
   "id": "96484a26",
   "metadata": {},
   "source": [
    "# Code Reviewer Test"
   ]
  },
  {
   "cell_type": "markdown",
   "id": "c585d3b4",
   "metadata": {},
   "source": [
    "### Part two"
   ]
  },
  {
   "cell_type": "markdown",
   "id": "1d9e535b",
   "metadata": {},
   "source": [
    "### Import libraries"
   ]
  },
  {
   "cell_type": "code",
   "execution_count": 1,
   "id": "7e5e9b14",
   "metadata": {},
   "outputs": [],
   "source": [
    "import pandas as pd\n",
    "import numpy as np\n",
    "import datetime as dt\n",
    "from scipy import stats as st"
   ]
  },
  {
   "cell_type": "code",
   "execution_count": null,
   "id": "32570b0a",
   "metadata": {},
   "outputs": [],
   "source": []
  },
  {
   "cell_type": "markdown",
   "id": "f9487d8f",
   "metadata": {},
   "source": [
    "#### Read in the data"
   ]
  },
  {
   "cell_type": "code",
   "execution_count": 78,
   "id": "8260bd26",
   "metadata": {},
   "outputs": [
    {
     "data": {
      "text/html": [
       "<div>\n",
       "<style scoped>\n",
       "    .dataframe tbody tr th:only-of-type {\n",
       "        vertical-align: middle;\n",
       "    }\n",
       "\n",
       "    .dataframe tbody tr th {\n",
       "        vertical-align: top;\n",
       "    }\n",
       "\n",
       "    .dataframe thead th {\n",
       "        text-align: right;\n",
       "    }\n",
       "</style>\n",
       "<table border=\"1\" class=\"dataframe\">\n",
       "  <thead>\n",
       "    <tr style=\"text-align: right;\">\n",
       "      <th></th>\n",
       "      <th>user_id</th>\n",
       "      <th>event_date</th>\n",
       "      <th>event_type</th>\n",
       "      <th>purchase_amount</th>\n",
       "    </tr>\n",
       "  </thead>\n",
       "  <tbody>\n",
       "    <tr>\n",
       "      <th>0</th>\n",
       "      <td>c40e6a</td>\n",
       "      <td>2019-07-29 00:02:15</td>\n",
       "      <td>registration</td>\n",
       "      <td>NaN</td>\n",
       "    </tr>\n",
       "    <tr>\n",
       "      <th>1</th>\n",
       "      <td>a2b682</td>\n",
       "      <td>2019-07-29 00:04:46</td>\n",
       "      <td>registration</td>\n",
       "      <td>NaN</td>\n",
       "    </tr>\n",
       "    <tr>\n",
       "      <th>2</th>\n",
       "      <td>9ac888</td>\n",
       "      <td>2019-07-29 00:13:22</td>\n",
       "      <td>registration</td>\n",
       "      <td>NaN</td>\n",
       "    </tr>\n",
       "    <tr>\n",
       "      <th>3</th>\n",
       "      <td>93ff22</td>\n",
       "      <td>2019-07-29 00:16:47</td>\n",
       "      <td>registration</td>\n",
       "      <td>NaN</td>\n",
       "    </tr>\n",
       "    <tr>\n",
       "      <th>4</th>\n",
       "      <td>65ef85</td>\n",
       "      <td>2019-07-29 00:19:23</td>\n",
       "      <td>registration</td>\n",
       "      <td>NaN</td>\n",
       "    </tr>\n",
       "  </tbody>\n",
       "</table>\n",
       "</div>"
      ],
      "text/plain": [
       "  user_id           event_date    event_type  purchase_amount\n",
       "0  c40e6a  2019-07-29 00:02:15  registration              NaN\n",
       "1  a2b682  2019-07-29 00:04:46  registration              NaN\n",
       "2  9ac888  2019-07-29 00:13:22  registration              NaN\n",
       "3  93ff22  2019-07-29 00:16:47  registration              NaN\n",
       "4  65ef85  2019-07-29 00:19:23  registration              NaN"
      ]
     },
     "execution_count": 78,
     "metadata": {},
     "output_type": "execute_result"
    }
   ],
   "source": [
    "df=pd.read_csv('event_data.csv')\n",
    "df.head()"
   ]
  },
  {
   "cell_type": "code",
   "execution_count": 81,
   "id": "aa717d7e",
   "metadata": {},
   "outputs": [
    {
     "data": {
      "text/plain": [
       "0     c40e6a\n",
       "1     a2b682\n",
       "2     9ac888\n",
       "3     93ff22\n",
       "4     65ef85\n",
       "5     90852e\n",
       "6     357151\n",
       "7     71ac11\n",
       "8     af679d\n",
       "9     a48f29\n",
       "10    b65930\n",
       "11    956ad6\n",
       "12    8aa5b4\n",
       "13    5fb555\n",
       "14    37fa41\n",
       "15    b5787e\n",
       "16    b2e16e\n",
       "17    ca3c58\n",
       "18    bea18b\n",
       "19    48cac1\n",
       "20    5290a3\n",
       "Name: user_id, dtype: object"
      ]
     },
     "execution_count": 81,
     "metadata": {},
     "output_type": "execute_result"
    }
   ],
   "source": [
    "df.loc[0:20,'user_id']"
   ]
  },
  {
   "cell_type": "code",
   "execution_count": null,
   "id": "a8ee5366",
   "metadata": {},
   "outputs": [],
   "source": []
  },
  {
   "cell_type": "code",
   "execution_count": 33,
   "id": "e78b5fd6",
   "metadata": {},
   "outputs": [],
   "source": [
    "# convert event date from string to datetime object\n",
    "df.event_date=pd.to_datetime(df.event_date)\n",
    "df['week_of_event']=df.event_date.dt.isocalendar().week"
   ]
  },
  {
   "cell_type": "code",
   "execution_count": 34,
   "id": "f6e051d8",
   "metadata": {},
   "outputs": [
    {
     "data": {
      "text/html": [
       "<div>\n",
       "<style scoped>\n",
       "    .dataframe tbody tr th:only-of-type {\n",
       "        vertical-align: middle;\n",
       "    }\n",
       "\n",
       "    .dataframe tbody tr th {\n",
       "        vertical-align: top;\n",
       "    }\n",
       "\n",
       "    .dataframe thead th {\n",
       "        text-align: right;\n",
       "    }\n",
       "</style>\n",
       "<table border=\"1\" class=\"dataframe\">\n",
       "  <thead>\n",
       "    <tr style=\"text-align: right;\">\n",
       "      <th></th>\n",
       "      <th>user_id</th>\n",
       "      <th>event_date</th>\n",
       "      <th>event_type</th>\n",
       "      <th>purchase_amount</th>\n",
       "      <th>week_of_event</th>\n",
       "    </tr>\n",
       "  </thead>\n",
       "  <tbody>\n",
       "    <tr>\n",
       "      <th>0</th>\n",
       "      <td>c40e6a</td>\n",
       "      <td>2019-07-29 00:02:15</td>\n",
       "      <td>registration</td>\n",
       "      <td>NaN</td>\n",
       "      <td>31</td>\n",
       "    </tr>\n",
       "    <tr>\n",
       "      <th>1</th>\n",
       "      <td>a2b682</td>\n",
       "      <td>2019-07-29 00:04:46</td>\n",
       "      <td>registration</td>\n",
       "      <td>NaN</td>\n",
       "      <td>31</td>\n",
       "    </tr>\n",
       "    <tr>\n",
       "      <th>2</th>\n",
       "      <td>9ac888</td>\n",
       "      <td>2019-07-29 00:13:22</td>\n",
       "      <td>registration</td>\n",
       "      <td>NaN</td>\n",
       "      <td>31</td>\n",
       "    </tr>\n",
       "    <tr>\n",
       "      <th>3</th>\n",
       "      <td>93ff22</td>\n",
       "      <td>2019-07-29 00:16:47</td>\n",
       "      <td>registration</td>\n",
       "      <td>NaN</td>\n",
       "      <td>31</td>\n",
       "    </tr>\n",
       "    <tr>\n",
       "      <th>4</th>\n",
       "      <td>65ef85</td>\n",
       "      <td>2019-07-29 00:19:23</td>\n",
       "      <td>registration</td>\n",
       "      <td>NaN</td>\n",
       "      <td>31</td>\n",
       "    </tr>\n",
       "  </tbody>\n",
       "</table>\n",
       "</div>"
      ],
      "text/plain": [
       "  user_id          event_date    event_type  purchase_amount  week_of_event\n",
       "0  c40e6a 2019-07-29 00:02:15  registration              NaN             31\n",
       "1  a2b682 2019-07-29 00:04:46  registration              NaN             31\n",
       "2  9ac888 2019-07-29 00:13:22  registration              NaN             31\n",
       "3  93ff22 2019-07-29 00:16:47  registration              NaN             31\n",
       "4  65ef85 2019-07-29 00:19:23  registration              NaN             31"
      ]
     },
     "execution_count": 34,
     "metadata": {},
     "output_type": "execute_result"
    }
   ],
   "source": [
    "df.head()"
   ]
  },
  {
   "cell_type": "markdown",
   "id": "4a62bf0f",
   "metadata": {},
   "source": [
    "#### Cohorts based on week of registration"
   ]
  },
  {
   "cell_type": "code",
   "execution_count": 35,
   "id": "61f846eb",
   "metadata": {},
   "outputs": [
    {
     "data": {
      "text/html": [
       "<div>\n",
       "<style scoped>\n",
       "    .dataframe tbody tr th:only-of-type {\n",
       "        vertical-align: middle;\n",
       "    }\n",
       "\n",
       "    .dataframe tbody tr th {\n",
       "        vertical-align: top;\n",
       "    }\n",
       "\n",
       "    .dataframe thead th {\n",
       "        text-align: right;\n",
       "    }\n",
       "</style>\n",
       "<table border=\"1\" class=\"dataframe\">\n",
       "  <thead>\n",
       "    <tr style=\"text-align: right;\">\n",
       "      <th></th>\n",
       "      <th>user_id</th>\n",
       "      <th>event_date</th>\n",
       "      <th>event_type</th>\n",
       "      <th>purchase_amount</th>\n",
       "      <th>week_of_event</th>\n",
       "    </tr>\n",
       "  </thead>\n",
       "  <tbody>\n",
       "    <tr>\n",
       "      <th>0</th>\n",
       "      <td>c40e6a</td>\n",
       "      <td>2019-07-29 00:02:15</td>\n",
       "      <td>registration</td>\n",
       "      <td>NaN</td>\n",
       "      <td>31</td>\n",
       "    </tr>\n",
       "    <tr>\n",
       "      <th>1</th>\n",
       "      <td>a2b682</td>\n",
       "      <td>2019-07-29 00:04:46</td>\n",
       "      <td>registration</td>\n",
       "      <td>NaN</td>\n",
       "      <td>31</td>\n",
       "    </tr>\n",
       "    <tr>\n",
       "      <th>2</th>\n",
       "      <td>9ac888</td>\n",
       "      <td>2019-07-29 00:13:22</td>\n",
       "      <td>registration</td>\n",
       "      <td>NaN</td>\n",
       "      <td>31</td>\n",
       "    </tr>\n",
       "    <tr>\n",
       "      <th>3</th>\n",
       "      <td>93ff22</td>\n",
       "      <td>2019-07-29 00:16:47</td>\n",
       "      <td>registration</td>\n",
       "      <td>NaN</td>\n",
       "      <td>31</td>\n",
       "    </tr>\n",
       "    <tr>\n",
       "      <th>4</th>\n",
       "      <td>65ef85</td>\n",
       "      <td>2019-07-29 00:19:23</td>\n",
       "      <td>registration</td>\n",
       "      <td>NaN</td>\n",
       "      <td>31</td>\n",
       "    </tr>\n",
       "  </tbody>\n",
       "</table>\n",
       "</div>"
      ],
      "text/plain": [
       "  user_id          event_date    event_type  purchase_amount  week_of_event\n",
       "0  c40e6a 2019-07-29 00:02:15  registration              NaN             31\n",
       "1  a2b682 2019-07-29 00:04:46  registration              NaN             31\n",
       "2  9ac888 2019-07-29 00:13:22  registration              NaN             31\n",
       "3  93ff22 2019-07-29 00:16:47  registration              NaN             31\n",
       "4  65ef85 2019-07-29 00:19:23  registration              NaN             31"
      ]
     },
     "execution_count": 35,
     "metadata": {},
     "output_type": "execute_result"
    }
   ],
   "source": [
    "df[df.event_type=='registration'].head()"
   ]
  },
  {
   "cell_type": "markdown",
   "id": "6bb354d0",
   "metadata": {},
   "source": [
    "#### Number of unique users with cohort ID 33"
   ]
  },
  {
   "cell_type": "code",
   "execution_count": 36,
   "id": "24f6cdd3",
   "metadata": {},
   "outputs": [
    {
     "data": {
      "text/plain": [
       "2045"
      ]
     },
     "execution_count": 36,
     "metadata": {},
     "output_type": "execute_result"
    }
   ],
   "source": [
    "\n",
    "df[(df['week_of_event']==33) & (df['event_type']=='registration')]['user_id'].nunique()"
   ]
  },
  {
   "cell_type": "code",
   "execution_count": null,
   "id": "7d3b4f62",
   "metadata": {},
   "outputs": [],
   "source": []
  },
  {
   "cell_type": "markdown",
   "id": "4ea4a33d",
   "metadata": {},
   "source": [
    "#### Lifetime indicator"
   ]
  },
  {
   "cell_type": "code",
   "execution_count": 37,
   "id": "a4568ad9",
   "metadata": {},
   "outputs": [
    {
     "data": {
      "text/html": [
       "<div>\n",
       "<style scoped>\n",
       "    .dataframe tbody tr th:only-of-type {\n",
       "        vertical-align: middle;\n",
       "    }\n",
       "\n",
       "    .dataframe tbody tr th {\n",
       "        vertical-align: top;\n",
       "    }\n",
       "\n",
       "    .dataframe thead th {\n",
       "        text-align: right;\n",
       "    }\n",
       "</style>\n",
       "<table border=\"1\" class=\"dataframe\">\n",
       "  <thead>\n",
       "    <tr style=\"text-align: right;\">\n",
       "      <th></th>\n",
       "      <th>registration</th>\n",
       "      <th>simple_event</th>\n",
       "      <th>purchase</th>\n",
       "      <th>simple_event_lifetime</th>\n",
       "      <th>purchase_lifetime</th>\n",
       "      <th>registration_lifetime</th>\n",
       "    </tr>\n",
       "    <tr>\n",
       "      <th>user_id</th>\n",
       "      <th></th>\n",
       "      <th></th>\n",
       "      <th></th>\n",
       "      <th></th>\n",
       "      <th></th>\n",
       "      <th></th>\n",
       "    </tr>\n",
       "  </thead>\n",
       "  <tbody>\n",
       "    <tr>\n",
       "      <th>00049f</th>\n",
       "      <td>33</td>\n",
       "      <td>35</td>\n",
       "      <td>33</td>\n",
       "      <td>2</td>\n",
       "      <td>0</td>\n",
       "      <td>0</td>\n",
       "    </tr>\n",
       "    <tr>\n",
       "      <th>0005f9</th>\n",
       "      <td>35</td>\n",
       "      <td>35</td>\n",
       "      <td>&lt;NA&gt;</td>\n",
       "      <td>0</td>\n",
       "      <td>&lt;NA&gt;</td>\n",
       "      <td>0</td>\n",
       "    </tr>\n",
       "    <tr>\n",
       "      <th>00082c</th>\n",
       "      <td>31</td>\n",
       "      <td>34</td>\n",
       "      <td>33</td>\n",
       "      <td>3</td>\n",
       "      <td>2</td>\n",
       "      <td>0</td>\n",
       "    </tr>\n",
       "    <tr>\n",
       "      <th>000ff1</th>\n",
       "      <td>35</td>\n",
       "      <td>35</td>\n",
       "      <td>&lt;NA&gt;</td>\n",
       "      <td>0</td>\n",
       "      <td>&lt;NA&gt;</td>\n",
       "      <td>0</td>\n",
       "    </tr>\n",
       "    <tr>\n",
       "      <th>001d5d</th>\n",
       "      <td>34</td>\n",
       "      <td>35</td>\n",
       "      <td>35</td>\n",
       "      <td>1</td>\n",
       "      <td>1</td>\n",
       "      <td>0</td>\n",
       "    </tr>\n",
       "  </tbody>\n",
       "</table>\n",
       "</div>"
      ],
      "text/plain": [
       "         registration  simple_event  purchase simple_event_lifetime  \\\n",
       "user_id                                                               \n",
       "00049f             33            35        33                     2   \n",
       "0005f9             35            35      <NA>                     0   \n",
       "00082c             31            34        33                     3   \n",
       "000ff1             35            35      <NA>                     0   \n",
       "001d5d             34            35        35                     1   \n",
       "\n",
       "        purchase_lifetime  registration_lifetime  \n",
       "user_id                                           \n",
       "00049f                  0                      0  \n",
       "0005f9               <NA>                      0  \n",
       "00082c                  2                      0  \n",
       "000ff1               <NA>                      0  \n",
       "001d5d                  1                      0  "
      ]
     },
     "execution_count": 37,
     "metadata": {},
     "output_type": "execute_result"
    }
   ],
   "source": [
    "reg=pd.DataFrame(df[df['event_type']=='registration']. \\\n",
    "                 groupby(['user_id'])['week_of_event'].min()).rename(columns={'week_of_event':'registration'})\n",
    "\n",
    "sim=pd.DataFrame(df[df['event_type']=='simple_event']. \\\n",
    "                 groupby(['user_id'])['week_of_event'].max()).rename(columns={'week_of_event':'simple_event'})\n",
    "\n",
    "pur=pd.DataFrame(df[df['event_type']=='purchase']. \\\n",
    "                 groupby(['user_id'])['week_of_event'].max()).rename(columns={'week_of_event':'purchase'})\n",
    "\n",
    "final_df=pd.concat([reg,sim,pur], axis=1)\n",
    "\n",
    "summary_df=final_df.copy()\n",
    "\n",
    "def get_simple_event_lifetime(row,x,y):\n",
    "    return row[y]-row[x]\n",
    "\n",
    "def get_purchase_lifetime(row,x,y):\n",
    "    return row[y]-row[x]\n",
    "\n",
    "summary_df['simple_event_lifetime']=summary_df.apply(get_simple_event_lifetime,axis=1,x='registration',y='simple_event')\n",
    "summary_df['purchase_lifetime']=summary_df.apply(get_purchase_lifetime,axis=1,x='registration',y='purchase')\n",
    "summary_df['registration_lifetime']=0\n",
    "\n",
    "summary_df.head()"
   ]
  },
  {
   "cell_type": "code",
   "execution_count": null,
   "id": "962afbde",
   "metadata": {},
   "outputs": [],
   "source": []
  },
  {
   "cell_type": "markdown",
   "id": "6da64064",
   "metadata": {},
   "source": [
    "#### Summary changes in Retention for cohorts depending on lifetime"
   ]
  },
  {
   "cell_type": "code",
   "execution_count": 38,
   "id": "067e2ad4",
   "metadata": {},
   "outputs": [
    {
     "data": {
      "text/html": [
       "<div>\n",
       "<style scoped>\n",
       "    .dataframe tbody tr th:only-of-type {\n",
       "        vertical-align: middle;\n",
       "    }\n",
       "\n",
       "    .dataframe tbody tr th {\n",
       "        vertical-align: top;\n",
       "    }\n",
       "\n",
       "    .dataframe thead th {\n",
       "        text-align: right;\n",
       "    }\n",
       "</style>\n",
       "<table border=\"1\" class=\"dataframe\">\n",
       "  <thead>\n",
       "    <tr style=\"text-align: right;\">\n",
       "      <th></th>\n",
       "      <th>registration</th>\n",
       "      <th>simple_event</th>\n",
       "      <th>purchase</th>\n",
       "    </tr>\n",
       "    <tr>\n",
       "      <th>registration</th>\n",
       "      <th></th>\n",
       "      <th></th>\n",
       "      <th></th>\n",
       "    </tr>\n",
       "  </thead>\n",
       "  <tbody>\n",
       "    <tr>\n",
       "      <th>31</th>\n",
       "      <td>1975</td>\n",
       "      <td>1972</td>\n",
       "      <td>1075</td>\n",
       "    </tr>\n",
       "    <tr>\n",
       "      <th>32</th>\n",
       "      <td>1952</td>\n",
       "      <td>1946</td>\n",
       "      <td>1084</td>\n",
       "    </tr>\n",
       "    <tr>\n",
       "      <th>33</th>\n",
       "      <td>2045</td>\n",
       "      <td>2043</td>\n",
       "      <td>1035</td>\n",
       "    </tr>\n",
       "    <tr>\n",
       "      <th>34</th>\n",
       "      <td>1974</td>\n",
       "      <td>1969</td>\n",
       "      <td>752</td>\n",
       "    </tr>\n",
       "    <tr>\n",
       "      <th>35</th>\n",
       "      <td>2050</td>\n",
       "      <td>1549</td>\n",
       "      <td>337</td>\n",
       "    </tr>\n",
       "  </tbody>\n",
       "</table>\n",
       "</div>"
      ],
      "text/plain": [
       "              registration  simple_event  purchase\n",
       "registration                                      \n",
       "31                    1975          1972      1075\n",
       "32                    1952          1946      1084\n",
       "33                    2045          2043      1035\n",
       "34                    1974          1969       752\n",
       "35                    2050          1549       337"
      ]
     },
     "execution_count": 38,
     "metadata": {},
     "output_type": "execute_result"
    }
   ],
   "source": [
    "summary_df.groupby('registration').agg({'registration':lambda x: (x.count()), \\\n",
    "                                       'simple_event':lambda x: (x.count()), \\\n",
    "                                       'purchase':lambda x: (x.count())})"
   ]
  },
  {
   "cell_type": "code",
   "execution_count": null,
   "id": "da36be1a",
   "metadata": {},
   "outputs": [],
   "source": []
  },
  {
   "cell_type": "markdown",
   "id": "0984c37d",
   "metadata": {},
   "source": [
    "#### Retention rate for cohorts for 3rd week"
   ]
  },
  {
   "cell_type": "code",
   "execution_count": 39,
   "id": "6d63436c",
   "metadata": {},
   "outputs": [],
   "source": [
    "sum_df=summary_df[(summary_df['simple_event_lifetime']==3) | \\\n",
    "           (summary_df['purchase_lifetime']==3)]"
   ]
  },
  {
   "cell_type": "code",
   "execution_count": 40,
   "id": "fb7e28bf",
   "metadata": {},
   "outputs": [
    {
     "data": {
      "text/html": [
       "<div>\n",
       "<style scoped>\n",
       "    .dataframe tbody tr th:only-of-type {\n",
       "        vertical-align: middle;\n",
       "    }\n",
       "\n",
       "    .dataframe tbody tr th {\n",
       "        vertical-align: top;\n",
       "    }\n",
       "\n",
       "    .dataframe thead th {\n",
       "        text-align: right;\n",
       "    }\n",
       "</style>\n",
       "<table border=\"1\" class=\"dataframe\">\n",
       "  <thead>\n",
       "    <tr style=\"text-align: right;\">\n",
       "      <th></th>\n",
       "      <th>registration</th>\n",
       "      <th>simple_event</th>\n",
       "      <th>purchase</th>\n",
       "    </tr>\n",
       "    <tr>\n",
       "      <th>registration</th>\n",
       "      <th></th>\n",
       "      <th></th>\n",
       "      <th></th>\n",
       "    </tr>\n",
       "  </thead>\n",
       "  <tbody>\n",
       "    <tr>\n",
       "      <th>31</th>\n",
       "      <td>499</td>\n",
       "      <td>499</td>\n",
       "      <td>368</td>\n",
       "    </tr>\n",
       "    <tr>\n",
       "      <th>32</th>\n",
       "      <td>705</td>\n",
       "      <td>705</td>\n",
       "      <td>517</td>\n",
       "    </tr>\n",
       "  </tbody>\n",
       "</table>\n",
       "</div>"
      ],
      "text/plain": [
       "              registration  simple_event  purchase\n",
       "registration                                      \n",
       "31                     499           499       368\n",
       "32                     705           705       517"
      ]
     },
     "execution_count": 40,
     "metadata": {},
     "output_type": "execute_result"
    }
   ],
   "source": [
    "agg_sum_df=sum_df.groupby('registration').agg({'registration':lambda x: (x.count()), \\\n",
    "                                       'simple_event':lambda x: (x.count()), \\\n",
    "                                       'purchase':lambda x: (x.count())})\n",
    "agg_sum_df.head()"
   ]
  },
  {
   "cell_type": "markdown",
   "id": "9dc1141d",
   "metadata": {},
   "source": [
    "#### 3 week retention rate for cohort with ID 32"
   ]
  },
  {
   "cell_type": "code",
   "execution_count": 41,
   "id": "861b9b63",
   "metadata": {},
   "outputs": [
    {
     "data": {
      "text/plain": [
       "26.67"
      ]
     },
     "execution_count": 41,
     "metadata": {},
     "output_type": "execute_result"
    }
   ],
   "source": [
    "round(((int(agg_sum_df.loc[32,'registration'])-int(agg_sum_df.loc[32,'purchase'])) \\\n",
    "/int(agg_sum_df.loc[32,'registration'])) *100,2)"
   ]
  },
  {
   "cell_type": "code",
   "execution_count": null,
   "id": "7f9d1268",
   "metadata": {},
   "outputs": [],
   "source": []
  },
  {
   "cell_type": "markdown",
   "id": "d4bb756d",
   "metadata": {},
   "source": [
    "#### Summary table for changes in Average Revenue Per Paying User"
   ]
  },
  {
   "cell_type": "code",
   "execution_count": 42,
   "id": "c26156b3",
   "metadata": {},
   "outputs": [
    {
     "data": {
      "text/html": [
       "<div>\n",
       "<style scoped>\n",
       "    .dataframe tbody tr th:only-of-type {\n",
       "        vertical-align: middle;\n",
       "    }\n",
       "\n",
       "    .dataframe tbody tr th {\n",
       "        vertical-align: top;\n",
       "    }\n",
       "\n",
       "    .dataframe thead th {\n",
       "        text-align: right;\n",
       "    }\n",
       "</style>\n",
       "<table border=\"1\" class=\"dataframe\">\n",
       "  <thead>\n",
       "    <tr style=\"text-align: right;\">\n",
       "      <th></th>\n",
       "      <th>ARPPU</th>\n",
       "    </tr>\n",
       "    <tr>\n",
       "      <th>week_of_event</th>\n",
       "      <th></th>\n",
       "    </tr>\n",
       "  </thead>\n",
       "  <tbody>\n",
       "    <tr>\n",
       "      <th>31</th>\n",
       "      <td>0.089028</td>\n",
       "    </tr>\n",
       "    <tr>\n",
       "      <th>32</th>\n",
       "      <td>0.028202</td>\n",
       "    </tr>\n",
       "    <tr>\n",
       "      <th>33</th>\n",
       "      <td>0.021171</td>\n",
       "    </tr>\n",
       "    <tr>\n",
       "      <th>34</th>\n",
       "      <td>0.018306</td>\n",
       "    </tr>\n",
       "    <tr>\n",
       "      <th>35</th>\n",
       "      <td>0.017194</td>\n",
       "    </tr>\n",
       "  </tbody>\n",
       "</table>\n",
       "</div>"
      ],
      "text/plain": [
       "                  ARPPU\n",
       "week_of_event          \n",
       "31             0.089028\n",
       "32             0.028202\n",
       "33             0.021171\n",
       "34             0.018306\n",
       "35             0.017194"
      ]
     },
     "execution_count": 42,
     "metadata": {},
     "output_type": "execute_result"
    }
   ],
   "source": [
    "\n",
    "pd.DataFrame(df[(df['event_type']=='purchase')].groupby('week_of_event')['purchase_amount'].mean() \\\n",
    "/ df[(df['event_type']=='purchase')].groupby('week_of_event')['purchase_amount'].count()) \\\n",
    ".rename(columns={'purchase_amount':'ARPPU'})"
   ]
  },
  {
   "cell_type": "code",
   "execution_count": null,
   "id": "16047b4c",
   "metadata": {},
   "outputs": [],
   "source": []
  },
  {
   "cell_type": "markdown",
   "id": "5c39e309",
   "metadata": {},
   "source": [
    "#### 3-week ARPPU of cohort with ID 31"
   ]
  },
  {
   "cell_type": "code",
   "execution_count": 43,
   "id": "ac7ba6ee",
   "metadata": {},
   "outputs": [
    {
     "data": {
      "text/html": [
       "<div>\n",
       "<style scoped>\n",
       "    .dataframe tbody tr th:only-of-type {\n",
       "        vertical-align: middle;\n",
       "    }\n",
       "\n",
       "    .dataframe tbody tr th {\n",
       "        vertical-align: top;\n",
       "    }\n",
       "\n",
       "    .dataframe thead th {\n",
       "        text-align: right;\n",
       "    }\n",
       "</style>\n",
       "<table border=\"1\" class=\"dataframe\">\n",
       "  <thead>\n",
       "    <tr style=\"text-align: right;\">\n",
       "      <th></th>\n",
       "      <th>user_id</th>\n",
       "      <th>event_type_x</th>\n",
       "      <th>week_of_event_x</th>\n",
       "      <th>event_type_y</th>\n",
       "      <th>purchase_amount_y</th>\n",
       "      <th>week_of_event_y</th>\n",
       "      <th>lifetime</th>\n",
       "    </tr>\n",
       "  </thead>\n",
       "  <tbody>\n",
       "    <tr>\n",
       "      <th>1</th>\n",
       "      <td>c40e6a</td>\n",
       "      <td>registration</td>\n",
       "      <td>31</td>\n",
       "      <td>purchase</td>\n",
       "      <td>50.0</td>\n",
       "      <td>34</td>\n",
       "      <td>3</td>\n",
       "    </tr>\n",
       "    <tr>\n",
       "      <th>9</th>\n",
       "      <td>65ef85</td>\n",
       "      <td>registration</td>\n",
       "      <td>31</td>\n",
       "      <td>purchase</td>\n",
       "      <td>40.0</td>\n",
       "      <td>34</td>\n",
       "      <td>3</td>\n",
       "    </tr>\n",
       "    <tr>\n",
       "      <th>15</th>\n",
       "      <td>5fb555</td>\n",
       "      <td>registration</td>\n",
       "      <td>31</td>\n",
       "      <td>purchase</td>\n",
       "      <td>50.0</td>\n",
       "      <td>34</td>\n",
       "      <td>3</td>\n",
       "    </tr>\n",
       "    <tr>\n",
       "      <th>18</th>\n",
       "      <td>b5787e</td>\n",
       "      <td>registration</td>\n",
       "      <td>31</td>\n",
       "      <td>purchase</td>\n",
       "      <td>50.0</td>\n",
       "      <td>34</td>\n",
       "      <td>3</td>\n",
       "    </tr>\n",
       "    <tr>\n",
       "      <th>19</th>\n",
       "      <td>b2e16e</td>\n",
       "      <td>registration</td>\n",
       "      <td>31</td>\n",
       "      <td>purchase</td>\n",
       "      <td>20.0</td>\n",
       "      <td>34</td>\n",
       "      <td>3</td>\n",
       "    </tr>\n",
       "  </tbody>\n",
       "</table>\n",
       "</div>"
      ],
      "text/plain": [
       "   user_id  event_type_x  week_of_event_x event_type_y  purchase_amount_y  \\\n",
       "1   c40e6a  registration               31     purchase               50.0   \n",
       "9   65ef85  registration               31     purchase               40.0   \n",
       "15  5fb555  registration               31     purchase               50.0   \n",
       "18  b5787e  registration               31     purchase               50.0   \n",
       "19  b2e16e  registration               31     purchase               20.0   \n",
       "\n",
       "    week_of_event_y  lifetime  \n",
       "1                34         3  \n",
       "9                34         3  \n",
       "15               34         3  \n",
       "18               34         3  \n",
       "19               34         3  "
      ]
     },
     "execution_count": 43,
     "metadata": {},
     "output_type": "execute_result"
    }
   ],
   "source": [
    "cohorts = df[(df['event_type']=='registration')] #dataframe with only registration column\n",
    "arppu_users = df[(df['event_type']=='purchase')] # dataframe with only purchase column\n",
    "paying_registrants = pd.merge(cohorts, arppu_users, on=\"user_id\") #merge both dataframes with common user_id\n",
    "\n",
    "paying_registrants = paying_registrants[['user_id','event_type_x','week_of_event_x','event_type_y', \\\n",
    "                                                               'purchase_amount_y','week_of_event_y']] #obtain needed columns\n",
    "paying_registrants['lifetime']=paying_registrants['week_of_event_y'] - paying_registrants['week_of_event_x'] #estimate lifetime\n",
    "third_week_paying_registrants = paying_registrants[paying_registrants['lifetime']==3] #lifetime for 3 week\n",
    "third_week_paying_registrants.head()"
   ]
  },
  {
   "cell_type": "code",
   "execution_count": 44,
   "id": "015dbe8c",
   "metadata": {},
   "outputs": [
    {
     "data": {
      "text/plain": [
       "13.93"
      ]
     },
     "execution_count": 44,
     "metadata": {},
     "output_type": "execute_result"
    }
   ],
   "source": [
    "round(((pd.DataFrame(third_week_paying_registrants.groupby('week_of_event_x') \\\n",
    "             ['purchase_amount_y'].mean()).loc[32,'purchase_amount_y'] /\n",
    "pd.DataFrame(third_week_paying_registrants.groupby('week_of_event_x') \\\n",
    "             ['week_of_event_y'].count()).loc[32,'week_of_event_y'])*100),2)"
   ]
  },
  {
   "cell_type": "code",
   "execution_count": 67,
   "id": "b065a8d7",
   "metadata": {},
   "outputs": [
    {
     "data": {
      "text/html": [
       "<div>\n",
       "<style scoped>\n",
       "    .dataframe tbody tr th:only-of-type {\n",
       "        vertical-align: middle;\n",
       "    }\n",
       "\n",
       "    .dataframe tbody tr th {\n",
       "        vertical-align: top;\n",
       "    }\n",
       "\n",
       "    .dataframe thead th {\n",
       "        text-align: right;\n",
       "    }\n",
       "</style>\n",
       "<table border=\"1\" class=\"dataframe\">\n",
       "  <thead>\n",
       "    <tr style=\"text-align: right;\">\n",
       "      <th></th>\n",
       "      <th>user_id</th>\n",
       "      <th>event_date_x</th>\n",
       "      <th>event_type_x</th>\n",
       "      <th>purchase_amount_x</th>\n",
       "      <th>week_of_event_x</th>\n",
       "      <th>event_date_y</th>\n",
       "      <th>event_type_y</th>\n",
       "      <th>purchase_amount_y</th>\n",
       "      <th>week_of_event_y</th>\n",
       "      <th>reg_to_purchase_time_in_secs</th>\n",
       "    </tr>\n",
       "  </thead>\n",
       "  <tbody>\n",
       "    <tr>\n",
       "      <th>0</th>\n",
       "      <td>c40e6a</td>\n",
       "      <td>2019-07-29 00:02:15</td>\n",
       "      <td>registration</td>\n",
       "      <td>NaN</td>\n",
       "      <td>31</td>\n",
       "      <td>2019-08-10 11:40:06</td>\n",
       "      <td>purchase</td>\n",
       "      <td>10.0</td>\n",
       "      <td>32</td>\n",
       "      <td>1078671.0</td>\n",
       "    </tr>\n",
       "    <tr>\n",
       "      <th>1</th>\n",
       "      <td>c40e6a</td>\n",
       "      <td>2019-07-29 00:02:15</td>\n",
       "      <td>registration</td>\n",
       "      <td>NaN</td>\n",
       "      <td>31</td>\n",
       "      <td>2019-08-20 12:48:56</td>\n",
       "      <td>purchase</td>\n",
       "      <td>50.0</td>\n",
       "      <td>34</td>\n",
       "      <td>1946801.0</td>\n",
       "    </tr>\n",
       "    <tr>\n",
       "      <th>2</th>\n",
       "      <td>a2b682</td>\n",
       "      <td>2019-07-29 00:04:46</td>\n",
       "      <td>registration</td>\n",
       "      <td>NaN</td>\n",
       "      <td>31</td>\n",
       "      <td>2019-08-06 23:18:39</td>\n",
       "      <td>purchase</td>\n",
       "      <td>30.0</td>\n",
       "      <td>32</td>\n",
       "      <td>774833.0</td>\n",
       "    </tr>\n",
       "    <tr>\n",
       "      <th>3</th>\n",
       "      <td>9ac888</td>\n",
       "      <td>2019-07-29 00:13:22</td>\n",
       "      <td>registration</td>\n",
       "      <td>NaN</td>\n",
       "      <td>31</td>\n",
       "      <td>2019-08-02 02:07:01</td>\n",
       "      <td>purchase</td>\n",
       "      <td>50.0</td>\n",
       "      <td>31</td>\n",
       "      <td>352419.0</td>\n",
       "    </tr>\n",
       "    <tr>\n",
       "      <th>4</th>\n",
       "      <td>9ac888</td>\n",
       "      <td>2019-07-29 00:13:22</td>\n",
       "      <td>registration</td>\n",
       "      <td>NaN</td>\n",
       "      <td>31</td>\n",
       "      <td>2019-08-04 02:14:50</td>\n",
       "      <td>purchase</td>\n",
       "      <td>50.0</td>\n",
       "      <td>31</td>\n",
       "      <td>525688.0</td>\n",
       "    </tr>\n",
       "  </tbody>\n",
       "</table>\n",
       "</div>"
      ],
      "text/plain": [
       "  user_id        event_date_x  event_type_x  purchase_amount_x  \\\n",
       "0  c40e6a 2019-07-29 00:02:15  registration                NaN   \n",
       "1  c40e6a 2019-07-29 00:02:15  registration                NaN   \n",
       "2  a2b682 2019-07-29 00:04:46  registration                NaN   \n",
       "3  9ac888 2019-07-29 00:13:22  registration                NaN   \n",
       "4  9ac888 2019-07-29 00:13:22  registration                NaN   \n",
       "\n",
       "   week_of_event_x        event_date_y event_type_y  purchase_amount_y  \\\n",
       "0               31 2019-08-10 11:40:06     purchase               10.0   \n",
       "1               31 2019-08-20 12:48:56     purchase               50.0   \n",
       "2               31 2019-08-06 23:18:39     purchase               30.0   \n",
       "3               31 2019-08-02 02:07:01     purchase               50.0   \n",
       "4               31 2019-08-04 02:14:50     purchase               50.0   \n",
       "\n",
       "   week_of_event_y  reg_to_purchase_time_in_secs  \n",
       "0               32                     1078671.0  \n",
       "1               34                     1946801.0  \n",
       "2               32                      774833.0  \n",
       "3               31                      352419.0  \n",
       "4               31                      525688.0  "
      ]
     },
     "execution_count": 67,
     "metadata": {},
     "output_type": "execute_result"
    }
   ],
   "source": [
    "paying_registrants.head()"
   ]
  },
  {
   "cell_type": "markdown",
   "id": "8531d401",
   "metadata": {},
   "source": [
    "#### Median Time between user and first purchase"
   ]
  },
  {
   "cell_type": "code",
   "execution_count": 70,
   "id": "7fa3366a",
   "metadata": {},
   "outputs": [],
   "source": [
    "cohorts = df[(df['event_type']=='registration')] #dataframe with only registration column\n",
    "arppu_users = df[(df['event_type']=='purchase')] # dataframe with only purchase column\n",
    "paying_registrants = pd.merge(cohorts, arppu_users, on=\"user_id\") #merge both dataframes with common user_id\n",
    "paying_registrants['lifetime']=paying_registrants['week_of_event_y'] - paying_registrants['week_of_event_x']\n",
    "paying_registrants['reg_to_purchase_time_in_secs'] = (paying_registrants['event_date_y']-paying_registrants \\\n",
    "                                                      ['event_date_x']).dt.total_seconds() #extract time_difference_in_sec\n",
    "reg_to_first_purchase=paying_registrants[paying_registrants['lifetime']==1] #first purchase"
   ]
  },
  {
   "cell_type": "code",
   "execution_count": 75,
   "id": "268ad664",
   "metadata": {},
   "outputs": [
    {
     "data": {
      "text/plain": [
       "574234.5"
      ]
     },
     "execution_count": 75,
     "metadata": {},
     "output_type": "execute_result"
    }
   ],
   "source": [
    "reg_to_first_purchase['reg_to_purchase_time_in_secs'].median()"
   ]
  }
 ],
 "metadata": {
  "kernelspec": {
   "display_name": "Python 3 (ipykernel)",
   "language": "python",
   "name": "python3"
  },
  "language_info": {
   "codemirror_mode": {
    "name": "ipython",
    "version": 3
   },
   "file_extension": ".py",
   "mimetype": "text/x-python",
   "name": "python",
   "nbconvert_exporter": "python",
   "pygments_lexer": "ipython3",
   "version": "3.9.7"
  }
 },
 "nbformat": 4,
 "nbformat_minor": 5
}
